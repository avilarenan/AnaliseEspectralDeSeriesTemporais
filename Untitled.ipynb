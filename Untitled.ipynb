{
 "cells": [
  {
   "cell_type": "code",
   "execution_count": 4,
   "metadata": {},
   "outputs": [
    {
     "name": "stdout",
     "output_type": "stream",
     "text": [
      "\n",
      " *** \n",
      " *** \n",
      "mesa5 = 4, mesa8 = 2\n"
     ]
    }
   ],
   "source": [
    "for i in range(1,10):\n",
    "    mesa5 = i * 5\n",
    "    for j in range(1,10):\n",
    "        mesa8 = j * 8\n",
    "#         print(f\"mesa5 = {i}, mesa8 = {j}, total = {(mesa8+mesa5)}\")\n",
    "        if (mesa8 + mesa5) == 36:\n",
    "            print(f\"\\n *** \\n *** \\nmesa5 = {i}, mesa8 = {j}\")"
   ]
  }
 ],
 "metadata": {
  "kernelspec": {
   "display_name": "Python 3",
   "language": "python",
   "name": "python3"
  },
  "language_info": {
   "codemirror_mode": {
    "name": "ipython",
    "version": 3
   },
   "file_extension": ".py",
   "mimetype": "text/x-python",
   "name": "python",
   "nbconvert_exporter": "python",
   "pygments_lexer": "ipython3",
   "version": "3.7.1"
  }
 },
 "nbformat": 4,
 "nbformat_minor": 2
}
