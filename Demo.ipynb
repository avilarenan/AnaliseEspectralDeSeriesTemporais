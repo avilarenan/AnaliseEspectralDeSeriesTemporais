{
 "cells": [
  {
   "cell_type": "markdown",
   "metadata": {},
   "source": [
    "# DEMO: Apresentação\n",
    "# MAE5871 - Análie Espectral de Séries Temporais\n",
    "## Renan Avila e Vinicius Soares"
   ]
  },
  {
   "cell_type": "markdown",
   "metadata": {},
   "source": [
    "# Sinais Artificiais\n",
    "## Analisando as decomposições de Wavelets e CEEMDAN"
   ]
  },
  {
   "cell_type": "code",
   "execution_count": 4,
   "metadata": {},
   "outputs": [
    {
     "output_type": "display_data",
     "data": {
      "text/plain": "<IPython.core.display.HTML object>",
      "text/html": "<style>.container { width:100% !important; }</style>"
     },
     "metadata": {}
    },
    {
     "output_type": "display_data",
     "data": {
      "text/html": "        <script type=\"text/javascript\">\n        window.PlotlyConfig = {MathJaxConfig: 'local'};\n        if (window.MathJax) {MathJax.Hub.Config({SVG: {font: \"STIX-Web\"}});}\n        if (typeof require !== 'undefined') {\n        require.undef(\"plotly\");\n        requirejs.config({\n            paths: {\n                'plotly': ['https://cdn.plot.ly/plotly-latest.min']\n            }\n        });\n        require(['plotly'], function(Plotly) {\n            window._Plotly = Plotly;\n        });\n        }\n        </script>\n        "
     },
     "metadata": {}
    }
   ],
   "source": [
    "from datetime import timedelta, datetime\n",
    "import itertools\n",
    "import matplotlib.pyplot as plt\n",
    "import random\n",
    "import pywt\n",
    "import pywt.data\n",
    "from PyEMD import EMD, CEEMDAN\n",
    "import pandas as pd\n",
    "import numpy as np\n",
    "from pyfiglet import Figlet\n",
    "from IPython.core.display import display, HTML\n",
    "display(HTML(\"<style>.container { width:100% !important; }</style>\"))\n",
    "import cufflinks as cf\n",
    "import chart_studio.plotly as py\n",
    "import plotly.offline\n",
    "from plotly.graph_objs import *\n",
    "import yfinance as yf\n",
    "cf.go_offline()\n",
    "cf.set_config_file(offline=False, world_readable=True)"
   ]
  },
  {
   "cell_type": "code",
   "execution_count": 5,
   "metadata": {},
   "outputs": [
    {
     "output_type": "stream",
     "name": "stdout",
     "text": "[*********************100%***********************]  1 of 1 completed\n"
    }
   ],
   "source": [
    "tickers = [\"PETR4\"]\n",
    "\n",
    "tickers = [f\"{ticker}.SA\" for ticker in tickers]\n",
    "\n",
    "start_datetime = datetime(year=2018, month=7, day=20)\n",
    "end_datetime = datetime(year=2020, month=5, day=22)\n",
    "\n",
    "history_data = {ticker.split('.')[0]:yf.download(ticker, start=start_datetime, end=end_datetime).drop(['Close','Open', 'High', 'Low', 'Volume'], axis=1).dropna() for ticker in tickers}"
   ]
  },
  {
   "cell_type": "code",
   "execution_count": 6,
   "metadata": {
    "scrolled": false
   },
   "outputs": [],
   "source": [
    "plot_ceemdan = True\n",
    "plot_wavelets = True \n",
    "use_ceemdan = True\n",
    "\n",
    "# real data\n",
    "np_data = np.asarray(history_data['PETR4']['Adj Close'])\n",
    "\n",
    "emd_config = {\"std_thr\": 0.001, \"range_thr\": 0.005}\n",
    "emd = EMD(spline_kind='cubic', nbsym=10, **emd_config)\n",
    "\n",
    "ceemdan_config = {\"range_thr\": 0.0001, \"total_power_thr\": 0.001}\n",
    "ceemdan = CEEMDAN(trials=500, epsilon=2, ext_EMD=emd, parallel=True, **ceemdan_config)\n",
    "\n",
    "IMFs = ceemdan(np_data)\n",
    "\n",
    "original = pd.DataFrame({'Original': np_data})\n",
    "\n",
    "IMFs_dataframe = pd.DataFrame(IMFs).T\n",
    "IMFs_dataframe = IMFs_dataframe.join(original)\n",
    "IMFs_dataframe.columns = [f'IMF{IMFs_dataframe.columns[i]+1}' if i+2 < len(IMFs_dataframe.columns) else 'Residue' if i+1 < len(IMFs_dataframe.columns) else 'Original' for i in range(len(IMFs_dataframe.columns))]"
   ]
  },
  {
   "cell_type": "code",
   "execution_count": 10,
   "metadata": {},
   "outputs": [],
   "source": [
    "space =  {\n",
    "            'legend' : {'bgcolor':'#1A1A1C','font':{'color':'#D9D9D9',\"size\":24}},\n",
    "            'paper_bgcolor' : '#1A1A1C',\n",
    "            'plot_bgcolor' : '#1A1A1C',\n",
    "            \"title\" : {\"font\":{\"color\":\"#D9D9D9\"},\"x\":0.5},\n",
    "            'yaxis' : {\n",
    "                'tickfont' : {'color':'#C2C2C2', \"size\":24},\n",
    "                'gridcolor' : '#434343',\n",
    "                'titlefont' : {'color':'#D9D9D9'},\n",
    "                'zerolinecolor' : '#666570',\n",
    "                'showgrid' : True\n",
    "            },\n",
    "            'xaxis' : {\n",
    "                'tickfont' : {'color':'#C2C2C2', \"size\":24},\n",
    "                'gridcolor' : '#434343',\n",
    "                'titlefont' : {'color':'#D9D9D9'},\n",
    "                'zerolinecolor' : '#666570',\n",
    "                'showgrid' : True\n",
    "            },\n",
    "            'titlefont' : {'color':'#D9D9D9'}\n",
    "        }\n",
    "\n",
    "fig = IMFs_dataframe.iplot(asFigure=True, layout=space, subplots=True, shape=(8,1), shared_xaxes=True, fill=True)\n",
    "# fig.show()\n",
    "\n",
    "fig.write_html(\"ceemdanT.html\")"
   ]
  },
  {
   "cell_type": "code",
   "execution_count": 62,
   "metadata": {},
   "outputs": [
    {
     "output_type": "execute_result",
     "data": {
      "text/plain": "['ggplot', 'pearl', 'solar', 'space', 'white', 'polar', 'henanigans']"
     },
     "metadata": {},
     "execution_count": 62
    }
   ],
   "source": [
    "cf.getThemes()"
   ]
  }
 ],
 "metadata": {
  "kernelspec": {
   "display_name": "Python 3",
   "language": "python",
   "name": "python3"
  },
  "language_info": {
   "codemirror_mode": {
    "name": "ipython",
    "version": 3
   },
   "file_extension": ".py",
   "mimetype": "text/x-python",
   "name": "python",
   "nbconvert_exporter": "python",
   "pygments_lexer": "ipython3",
   "version": "3.7.4-final"
  },
  "toc": {
   "base_numbering": 1,
   "nav_menu": {},
   "number_sections": true,
   "sideBar": true,
   "skip_h1_title": false,
   "title_cell": "Table of Contents",
   "title_sidebar": "Contents",
   "toc_cell": false,
   "toc_position": {},
   "toc_section_display": true,
   "toc_window_display": false
  },
  "varInspector": {
   "cols": {
    "lenName": 16,
    "lenType": 16,
    "lenVar": 40
   },
   "kernels_config": {
    "python": {
     "delete_cmd_postfix": "",
     "delete_cmd_prefix": "del ",
     "library": "var_list.py",
     "varRefreshCmd": "print(var_dic_list())"
    },
    "r": {
     "delete_cmd_postfix": ") ",
     "delete_cmd_prefix": "rm(",
     "library": "var_list.r",
     "varRefreshCmd": "cat(var_dic_list()) "
    }
   },
   "types_to_exclude": [
    "module",
    "function",
    "builtin_function_or_method",
    "instance",
    "_Feature"
   ],
   "window_display": false
  }
 },
 "nbformat": 4,
 "nbformat_minor": 2
}